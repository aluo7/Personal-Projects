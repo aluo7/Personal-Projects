{
 "cells": [
  {
   "cell_type": "code",
   "execution_count": 1,
   "metadata": {},
   "outputs": [],
   "source": [
    "import cv2\n",
    "import numpy as np\n",
    "from mss import mss\n",
    "from PIL import Image\n",
    "import tkinter as tk\n",
    "import cv2"
   ]
  },
  {
   "cell_type": "code",
   "execution_count": 4,
   "metadata": {},
   "outputs": [
    {
     "name": "stdout",
     "output_type": "stream",
     "text": [
      "Width: 1920 Height: 1080\n"
     ]
    }
   ],
   "source": [
    "#Get the screen size of monitor\n",
    "root = tk.Tk()\n",
    "screen_width = root.winfo_screenwidth()\n",
    "screen_height = root.winfo_screenheight()\n",
    "print(f\"Width: {screen_width} Height: {screen_height}\")"
   ]
  },
  {
   "cell_type": "code",
   "execution_count": 5,
   "metadata": {},
   "outputs": [],
   "source": [
    "#Get the frames of the screen\n",
    "monitor = {'top': 0, 'left': 0, 'width': screen_width, 'height': screen_height}\n",
    "sct = mss()\n",
    "while True:\n",
    "    sct_img = sct.grab(monitor)\n",
    "    cv2.imshow(\"Screen\",np.array(sct_img))\n",
    "\n",
    "    if cv2.waitKey(1) & 0xFF == ord('q'):\n",
    "        cv2.destroyAllWindows()\n",
    "        break"
   ]
  }
 ],
 "metadata": {
  "kernelspec": {
   "display_name": "ML",
   "language": "python",
   "name": "python3"
  },
  "language_info": {
   "codemirror_mode": {
    "name": "ipython",
    "version": 3
   },
   "file_extension": ".py",
   "mimetype": "text/x-python",
   "name": "python",
   "nbconvert_exporter": "python",
   "pygments_lexer": "ipython3",
   "version": "3.10.8 | packaged by conda-forge | (main, Nov 24 2022, 14:07:00) [MSC v.1916 64 bit (AMD64)]"
  },
  "orig_nbformat": 4,
  "vscode": {
   "interpreter": {
    "hash": "24655098450cfdfc86a5c9aa42e2375245240419abafb835314a302369f7ffb4"
   }
  }
 },
 "nbformat": 4,
 "nbformat_minor": 2
}
