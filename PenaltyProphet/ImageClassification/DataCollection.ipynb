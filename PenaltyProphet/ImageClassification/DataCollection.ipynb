{
 "cells": [
  {
   "cell_type": "code",
   "execution_count": 1,
   "metadata": {},
   "outputs": [],
   "source": [
    "rom pytube import YouTube\n",
    "import pandas as pd\n",
    "import os\n",
    "import cv2\n",
    "import albumentations as A\n",
    "import shutil\n",
    "from PIL import Image\n",
    "import numpy as np\n",
    "WIDTH = 640\n",
    "HEIGHT = 360\n",
    "image_id = 0\n",
    "num = 0\n",
    "csv_dir = \"C:\\\\Users\\\\luoal\\\\Documents\\\\PenaltyProphet\\\\Data\\\\csv\""
   ]
  },
  {
   "attachments": {},
   "cell_type": "markdown",
   "metadata": {},
   "source": [
    "# Augmentations being applied to data"
   ]
  },
  {
   "cell_type": "code",
   "execution_count": 2,
   "metadata": {},
   "outputs": [],
   "source": [
    "# Augment data inorder to add variance to model\n",
    "TRANSFORM = A.Compose([\n",
    "    # Flip and Rotate\n",
    "    A.HorizontalFlip(p=0.5),\n",
    "    A.VerticalFlip(p=0.5),\n",
    "    A.Rotate(p=0.6,limit=22),\n",
    "\n",
    "    # Add random holes to image\n",
    "    A.CoarseDropout(max_holes=10,min_holes=1,fill_value=255,max_height=40,max_width=20,p=0.5),\n",
    "\n",
    "    # Weather Augmentations\n",
    "    A.OneOf([\n",
    "        A.RandomRain(p=.25), #Typically for soccer games\n",
    "        A.RandomSnow(p=.25), #Typically for soccer games\n",
    "        A.RandomFog(p=.25), #Typically for soccer games\n",
    "        A.RandomSunFlare(p=.125), #Typically for soccer games\n",
    "        A.RandomShadow(p=.125), #Typically for soccer games\n",
    "    ],p=0.5),\n",
    "\n",
    "    # Color Augmentations\n",
    "    A.OneOf([\n",
    "        A.RandomBrightnessContrast(p=0.5),\n",
    "        A.RandomGamma(p=0.5),\n",
    "        A.RGBShift(p=0.5),\n",
    "        A.HueSaturationValue(p=0.5),\n",
    "    ],p=0.25),\n",
    "])"
   ]
  },
  {
   "attachments": {},
   "cell_type": "markdown",
   "metadata": {},
   "source": [
    "# Helper Functions"
   ]
  },
  {
   "cell_type": "code",
   "execution_count": 3,
   "metadata": {},
   "outputs": [],
   "source": [
    "# Download video from YouTube using url\n",
    "def downloadVideo(url, video_name):\n",
    "    yt = YouTube(url)\n",
    "    try:\n",
    "        yt.streams.filter(progressive=True, file_extension=\"mp4\").last().download(\n",
    "            output_path=\"C:\\\\Users\\\\luoal\\\\Documents\\\\PenaltyProphet\\\\Data\\\\penalty_vids\",\n",
    "            filename=f\"{video_name}.mp4\",\n",
    "        )\n",
    "    except Exception as e:\n",
    "        print(e)\n",
    "\n",
    "\n",
    "# Grab frames from video along with the seconds\n",
    "def getFrames(\n",
    "    video,\n",
    "    start_directory=\"C:\\\\Users\\\\luoal\\\\Documents\\\\PenaltyProphet\\\\Data\\\\penalty_vids\",\n",
    "    end_directory=\"C:\\\\Users\\\\luoal\\\\Documents\\\\PenaltyProphet\\\\Data\\\\frame_trash\",\n",
    "):\n",
    "    global image_id\n",
    "    vidcap = cv2.VideoCapture(os.path.join(start_directory, video+\".mp4\"))\n",
    "    while vidcap.isOpened():\n",
    "        success, image = vidcap.read()\n",
    "        if success:\n",
    "            cv2.imwrite(\n",
    "                os.path.join(end_directory, f\"{video[:-4]}_{image_id}.jpg\"), image\n",
    "            )  # save frame as JPEG file\n",
    "            image_id += 1\n",
    "        else:\n",
    "            print(\"Done Here!\")\n",
    "            vidcap.release()\n",
    "            return\n",
    "        \n",
    "\n",
    "# Delete all augmented images in both goalie and pen_kickers\n",
    "def delAugmented(\n",
    "    directory=\"C:\\\\Users\\\\luoal\\\\Documents\\\\PenaltyProphet\\\\Data\\\\kicker_pens_simple\\\\train\",\n",
    "):\n",
    "    # Cycle through kicker pens simple\n",
    "    for files in os.listdir(directory):\n",
    "        for image in os.listdir(os.path.join(directory, files)):\n",
    "            if \"_aug_\" in image:\n",
    "                os.remove(os.path.join(directory, files, image))\n",
    "\n",
    "\n",
    "# Remove all images from trash\n",
    "def delTrash(\n",
    "    directory=\"C:\\\\Users\\\\luoal\\\\Documents\\\\PenaltyProphet\\\\Data\\\\frame_trash\",\n",
    "):\n",
    "    for image in os.listdir(directory):\n",
    "        os.remove(os.path.join(directory, image))\n",
    "\n",
    "\n",
    "# Augment images in frames directory\n",
    "def augmentImages(directory, image):\n",
    "    global num\n",
    "    image_name = image[:-4]\n",
    "    if \"_aug_\" not in image_name:\n",
    "        os.path.join(directory, image)\n",
    "        image = cv2.imread(os.path.join(directory, image), cv2.IMREAD_UNCHANGED)\n",
    "        cv2.imwrite(\n",
    "            os.path.join(directory, f\"{image_name}_aug_{num}.jpg\"),\n",
    "            TRANSFORM(image=image)[\"image\"],\n",
    "        )\n",
    "        num += 1\n",
    "    else:\n",
    "        return"
   ]
  },
  {
   "attachments": {},
   "cell_type": "markdown",
   "metadata": {},
   "source": [
    "# Download the penalities into frames"
   ]
  },
  {
   "cell_type": "code",
   "execution_count": null,
   "metadata": {},
   "outputs": [],
   "source": [
    "# Fifa Games\n",
    "downloadVideo(\"https://www.youtube.com/watch?v=EfM_28vo6R0\",\"facup_shootout\")\n",
    "downloadVideo(\"https://www.youtube.com/watch?v=inNPgOOP30c\",\"carabao_cup\")\n",
    "downloadVideo(\"https://www.youtube.com/watch?v=jxP73Zqvq0I\",\"World_Cup_2022\")\n",
    "downloadVideo(\"https://www.youtube.com/watch?v=Zpx7iSNDAg0\",\"Euro_2020\")\n",
    "downloadVideo(\"https://www.youtube.com/watch?v=Pwm9XTNGGMo\",\"Copa_America\")\n",
    "downloadVideo(\"https://www.youtube.com/watch?v=KoiXYX7tui4\",\"ArgentinavNetherlands\")\n",
    "downloadVideo(\"https://www.youtube.com/watch?v=vluo9tQcTDU\",\"SpainvMorocco\")\n",
    "downloadVideo(\"https://www.youtube.com/watch?v=DXpiG_-YTxk\",\"UruguayvGhana\")\n",
    "downloadVideo(\"https://www.youtube.com/watch?v=JCLI_U3imR4\",\"ManUvMid\")\n",
    "downloadVideo(\"https://www.youtube.com/watch?v=VLhgWCI96q8\",\"NethervCosta\")\n",
    "downloadVideo(\"https://www.youtube.com/watch?v=WBHaJa5rZiI\",\"WorstPens\")\n",
    "downloadVideo(\"https://www.youtube.com/watch?v=X_NSB3CnHoo\",\"VillvManU\")\n",
    "downloadVideo(\"https://www.youtube.com/watch?v=3bqN9o4QtBU\",\"Copa2016\")\n",
    "downloadVideo(\"https://www.youtube.com/watch?v=r9ynUq_rcNY\",\"FaCup\")\n",
    "\n",
    "# Football youtubers\n",
    "downloadVideo(\"https://www.youtube.com/watch?v=TEKzuzuHXuU\",\"Freekickerz\")\n",
    "downloadVideo(\"https://www.youtube.com/watch?v=kFJUYMdPARY\",\"TheoBaker\")\n",
    "downloadVideo(\"https://www.youtube.com/watch?v=9nO4495R2Vc\",\"LeftvRight\")\n",
    "downloadVideo(\"https://www.youtube.com/watch?v=9nO4495R2Vc\",\"LeftvRight\")\n",
    "downloadVideo(\"https://www.youtube.com/watch?v=5bQUqTsC0JA\",\"Miniminter\")\n",
    "downloadVideo(\"https://www.youtube.com/watch?v=klJYCR-6FRw\",\"ChrisMD\")\n",
    "downloadVideo(\"https://www.youtube.com/watch?v=phQ48JVIXJg\",\"ProDirect\")"
   ]
  },
  {
   "attachments": {},
   "cell_type": "markdown",
   "metadata": {},
   "source": [
    "# Sadly, I had to go in and edit the penalty kicks and goalie kicks manually\n",
    "- Right\n",
    "- Left\n",
    "- Center"
   ]
  },
  {
   "attachments": {},
   "cell_type": "markdown",
   "metadata": {},
   "source": [
    "# Kicker Penalties (70% train, 15% validation, 15% testing)"
   ]
  },
  {
   "cell_type": "code",
   "execution_count": null,
   "metadata": {},
   "outputs": [],
   "source": [
    "# Move validation data back to train\n",
    "validation = pd.read_csv(\"C:\\\\Users\\\\luoal\\\\Documents\\\\PenaltyProphet\\\\Data\\\\csv\\\\validation_kicker.csv\")\n",
    "for train_dir in validation[\"ImageDirectory\"].values:\n",
    "    val_dir = train_dir.replace(\"train\",\"val\")\n",
    "    os.replace(val_dir,train_dir)"
   ]
  },
  {
   "cell_type": "code",
   "execution_count": null,
   "metadata": {},
   "outputs": [],
   "source": [
    "# Move test data back to train\n",
    "test = pd.read_csv(\"C:\\\\Users\\\\luoal\\\\Documents\\\\PenaltyProphet\\\\Data\\\\csv\\\\validation_kicker.csv\")\n",
    "for train_dir in test[\"ImageDirectory\"].values:\n",
    "    val_dir = train_dir.replace(\"train\",\"test\")\n",
    "    os.replace(val_dir,train_dir)"
   ]
  },
  {
   "cell_type": "code",
   "execution_count": 4,
   "metadata": {},
   "outputs": [
    {
     "data": {
      "text/html": [
       "<div>\n",
       "<style scoped>\n",
       "    .dataframe tbody tr th:only-of-type {\n",
       "        vertical-align: middle;\n",
       "    }\n",
       "\n",
       "    .dataframe tbody tr th {\n",
       "        vertical-align: top;\n",
       "    }\n",
       "\n",
       "    .dataframe thead th {\n",
       "        text-align: right;\n",
       "    }\n",
       "</style>\n",
       "<table border=\"1\" class=\"dataframe\">\n",
       "  <thead>\n",
       "    <tr style=\"text-align: right;\">\n",
       "      <th></th>\n",
       "      <th>ImageDirectory</th>\n",
       "      <th>ImageLabel</th>\n",
       "    </tr>\n",
       "  </thead>\n",
       "  <tbody>\n",
       "    <tr>\n",
       "      <th>0</th>\n",
       "      <td>C:\\Users\\David Salazar\\Desktop\\Python\\Pendicti...</td>\n",
       "      <td>Center</td>\n",
       "    </tr>\n",
       "    <tr>\n",
       "      <th>1</th>\n",
       "      <td>C:\\Users\\David Salazar\\Desktop\\Python\\Pendicti...</td>\n",
       "      <td>Center</td>\n",
       "    </tr>\n",
       "    <tr>\n",
       "      <th>2</th>\n",
       "      <td>C:\\Users\\David Salazar\\Desktop\\Python\\Pendicti...</td>\n",
       "      <td>Center</td>\n",
       "    </tr>\n",
       "    <tr>\n",
       "      <th>3</th>\n",
       "      <td>C:\\Users\\David Salazar\\Desktop\\Python\\Pendicti...</td>\n",
       "      <td>Center</td>\n",
       "    </tr>\n",
       "    <tr>\n",
       "      <th>4</th>\n",
       "      <td>C:\\Users\\David Salazar\\Desktop\\Python\\Pendicti...</td>\n",
       "      <td>Center</td>\n",
       "    </tr>\n",
       "    <tr>\n",
       "      <th>...</th>\n",
       "      <td>...</td>\n",
       "      <td>...</td>\n",
       "    </tr>\n",
       "    <tr>\n",
       "      <th>2147</th>\n",
       "      <td>C:\\Users\\David Salazar\\Desktop\\Python\\Pendicti...</td>\n",
       "      <td>Right</td>\n",
       "    </tr>\n",
       "    <tr>\n",
       "      <th>2148</th>\n",
       "      <td>C:\\Users\\David Salazar\\Desktop\\Python\\Pendicti...</td>\n",
       "      <td>Right</td>\n",
       "    </tr>\n",
       "    <tr>\n",
       "      <th>2149</th>\n",
       "      <td>C:\\Users\\David Salazar\\Desktop\\Python\\Pendicti...</td>\n",
       "      <td>Right</td>\n",
       "    </tr>\n",
       "    <tr>\n",
       "      <th>2150</th>\n",
       "      <td>C:\\Users\\David Salazar\\Desktop\\Python\\Pendicti...</td>\n",
       "      <td>Right</td>\n",
       "    </tr>\n",
       "    <tr>\n",
       "      <th>2151</th>\n",
       "      <td>C:\\Users\\David Salazar\\Desktop\\Python\\Pendicti...</td>\n",
       "      <td>Right</td>\n",
       "    </tr>\n",
       "  </tbody>\n",
       "</table>\n",
       "<p>2152 rows × 2 columns</p>\n",
       "</div>"
      ],
      "text/plain": [
       "                                         ImageDirectory ImageLabel\n",
       "0     C:\\Users\\David Salazar\\Desktop\\Python\\Pendicti...     Center\n",
       "1     C:\\Users\\David Salazar\\Desktop\\Python\\Pendicti...     Center\n",
       "2     C:\\Users\\David Salazar\\Desktop\\Python\\Pendicti...     Center\n",
       "3     C:\\Users\\David Salazar\\Desktop\\Python\\Pendicti...     Center\n",
       "4     C:\\Users\\David Salazar\\Desktop\\Python\\Pendicti...     Center\n",
       "...                                                 ...        ...\n",
       "2147  C:\\Users\\David Salazar\\Desktop\\Python\\Pendicti...      Right\n",
       "2148  C:\\Users\\David Salazar\\Desktop\\Python\\Pendicti...      Right\n",
       "2149  C:\\Users\\David Salazar\\Desktop\\Python\\Pendicti...      Right\n",
       "2150  C:\\Users\\David Salazar\\Desktop\\Python\\Pendicti...      Right\n",
       "2151  C:\\Users\\David Salazar\\Desktop\\Python\\Pendicti...      Right\n",
       "\n",
       "[2152 rows x 2 columns]"
      ]
     },
     "execution_count": 4,
     "metadata": {},
     "output_type": "execute_result"
    }
   ],
   "source": [
    "delAugmented() #Deletes all augmented images\n",
    "\n",
    "# Grab all images from classification directory\n",
    "train_dir = \"C:\\\\Users\\\\luoal\\\\Documents\\\\PenaltyProphet\\\\Data\\\\kicker_pens_simple\\\\train\"\n",
    "train_data = []\n",
    "for file in os.listdir(train_dir):\n",
    "    for image in os.listdir(f\"{train_dir}\\\\{file}\"):\n",
    "        train_data.append([f\"{train_dir}\\\\{file}\\\\{image}\",file])\n",
    "\n",
    "directoryDF = pd.DataFrame(train_data,columns=['ImageDirectory','ImageLabel'])\n",
    "directoryDF"
   ]
  },
  {
   "cell_type": "code",
   "execution_count": 6,
   "metadata": {},
   "outputs": [
    {
     "name": "stdout",
     "output_type": "stream",
     "text": [
      "Training data length: 1506\n",
      "Validation data length: 323\n",
      "Testing data length: 323\n"
     ]
    }
   ],
   "source": [
    "train_kicker, validate_kicker, test_kicker = np.split(directoryDF.sample(frac=1), [int(.7*len(directoryDF)), int(.85*len(directoryDF))]) # Train = 70%, Validate = 15%, Test = 15% \n",
    "validate_kicker.to_csv(os.path.join(csv_dir, \"validation_kicker.csv\"),index=False) # Save so we know what we are validating on\n",
    "test_kicker.to_csv(os.path.join(csv_dir, \"test_kicker.csv\"),index=False) # Save so we know what we are testing on\n",
    "print(f\"Training data length: {len(train_kicker)}\\nValidation data length: {len(validate_kicker)}\\nTesting data length: {len(test_kicker)}\")"
   ]
  },
  {
   "cell_type": "code",
   "execution_count": 7,
   "metadata": {},
   "outputs": [],
   "source": [
    "val_dir = \"C:\\\\Users\\\\luoal\\\\Documents\\\\PenaltyProphet\\\\Data\\\\kicker_pens_simple\\\\val\"\n",
    "test_dir = \"C:\\\\Users\\\\luoal\\\\Documents\\\\PenaltyProphet\\\\Data\\\\kicker_pens_simple\\\\test\"\n",
    "\n",
    "# Move validation images to validation directory\n",
    "for directory in validate_kicker['ImageDirectory'].values:\n",
    "    classification = directory.split('\\\\')[-2]\n",
    "    image_name = directory.split('\\\\')[-1]\n",
    "    os.replace(directory,os.path.join(val_dir,classification,image_name))\n",
    "    \n",
    "# Move test images to test directory\n",
    "for directory in test_kicker['ImageDirectory'].values:\n",
    "    classification = directory.split('\\\\')[-2]\n",
    "    image_name = directory.split('\\\\')[-1]\n",
    "    os.replace(directory,os.path.join(test_dir,classification,image_name))"
   ]
  },
  {
   "cell_type": "code",
   "execution_count": 8,
   "metadata": {},
   "outputs": [],
   "source": [
    "# Augment images in training data \n",
    "for file in os.listdir(train_dir):\n",
    "    while len(os.listdir(os.path.join(train_dir,file))) < 1500:\n",
    "        for image in os.listdir(os.path.join(train_dir,file)):\n",
    "            augmentImages(os.path.join(train_dir,file),image)\n",
    "            if len(os.listdir(os.path.join(train_dir,file))) >= 1500:\n",
    "                break"
   ]
  },
  {
   "attachments": {},
   "cell_type": "markdown",
   "metadata": {},
   "source": [
    "# Goalie Penalties (70% train, 15% validation, 15% testing)"
   ]
  },
  {
   "cell_type": "code",
   "execution_count": null,
   "metadata": {},
   "outputs": [],
   "source": [
    "# Move validation data back to train\n",
    "validation = pd.read_csv(\"C:\\\\Users\\\\luoal\\\\Documents\\\\PenaltyProphet\\\\Data\\\\csv\\\\validation_goalie.csv\")\n",
    "for train_dir in validation[\"ImageDirectory\"].values:\n",
    "    val_dir = train_dir.replace(\"train\",\"val\")\n",
    "    os.replace(val_dir,train_dir)\n",
    "\n",
    "test = pd.read_csv(\"C:\\\\Users\\\\luoal\\\\Documents\\\\PenaltyProphet\\\\Data\\\\csv\\\\test_goalie.csv\")\n",
    "for train_dir in test[\"ImageDirectory\"].values:\n",
    "    val_dir = train_dir.replace(\"train\",\"test\")\n",
    "    os.replace(val_dir,train_dir)"
   ]
  },
  {
   "cell_type": "code",
   "execution_count": 9,
   "metadata": {},
   "outputs": [
    {
     "data": {
      "text/html": [
       "<div>\n",
       "<style scoped>\n",
       "    .dataframe tbody tr th:only-of-type {\n",
       "        vertical-align: middle;\n",
       "    }\n",
       "\n",
       "    .dataframe tbody tr th {\n",
       "        vertical-align: top;\n",
       "    }\n",
       "\n",
       "    .dataframe thead th {\n",
       "        text-align: right;\n",
       "    }\n",
       "</style>\n",
       "<table border=\"1\" class=\"dataframe\">\n",
       "  <thead>\n",
       "    <tr style=\"text-align: right;\">\n",
       "      <th></th>\n",
       "      <th>ImageDirectory</th>\n",
       "      <th>ImageLabel</th>\n",
       "    </tr>\n",
       "  </thead>\n",
       "  <tbody>\n",
       "    <tr>\n",
       "      <th>0</th>\n",
       "      <td>C:\\Users\\David Salazar\\Desktop\\Python\\Pendicti...</td>\n",
       "      <td>Center_Goalie</td>\n",
       "    </tr>\n",
       "    <tr>\n",
       "      <th>1</th>\n",
       "      <td>C:\\Users\\David Salazar\\Desktop\\Python\\Pendicti...</td>\n",
       "      <td>Center_Goalie</td>\n",
       "    </tr>\n",
       "    <tr>\n",
       "      <th>2</th>\n",
       "      <td>C:\\Users\\David Salazar\\Desktop\\Python\\Pendicti...</td>\n",
       "      <td>Center_Goalie</td>\n",
       "    </tr>\n",
       "    <tr>\n",
       "      <th>3</th>\n",
       "      <td>C:\\Users\\David Salazar\\Desktop\\Python\\Pendicti...</td>\n",
       "      <td>Center_Goalie</td>\n",
       "    </tr>\n",
       "    <tr>\n",
       "      <th>4</th>\n",
       "      <td>C:\\Users\\David Salazar\\Desktop\\Python\\Pendicti...</td>\n",
       "      <td>Center_Goalie</td>\n",
       "    </tr>\n",
       "    <tr>\n",
       "      <th>...</th>\n",
       "      <td>...</td>\n",
       "      <td>...</td>\n",
       "    </tr>\n",
       "    <tr>\n",
       "      <th>1792</th>\n",
       "      <td>C:\\Users\\David Salazar\\Desktop\\Python\\Pendicti...</td>\n",
       "      <td>Right_Goalie</td>\n",
       "    </tr>\n",
       "    <tr>\n",
       "      <th>1793</th>\n",
       "      <td>C:\\Users\\David Salazar\\Desktop\\Python\\Pendicti...</td>\n",
       "      <td>Right_Goalie</td>\n",
       "    </tr>\n",
       "    <tr>\n",
       "      <th>1794</th>\n",
       "      <td>C:\\Users\\David Salazar\\Desktop\\Python\\Pendicti...</td>\n",
       "      <td>Right_Goalie</td>\n",
       "    </tr>\n",
       "    <tr>\n",
       "      <th>1795</th>\n",
       "      <td>C:\\Users\\David Salazar\\Desktop\\Python\\Pendicti...</td>\n",
       "      <td>Right_Goalie</td>\n",
       "    </tr>\n",
       "    <tr>\n",
       "      <th>1796</th>\n",
       "      <td>C:\\Users\\David Salazar\\Desktop\\Python\\Pendicti...</td>\n",
       "      <td>Right_Goalie</td>\n",
       "    </tr>\n",
       "  </tbody>\n",
       "</table>\n",
       "<p>1797 rows × 2 columns</p>\n",
       "</div>"
      ],
      "text/plain": [
       "                                         ImageDirectory     ImageLabel\n",
       "0     C:\\Users\\David Salazar\\Desktop\\Python\\Pendicti...  Center_Goalie\n",
       "1     C:\\Users\\David Salazar\\Desktop\\Python\\Pendicti...  Center_Goalie\n",
       "2     C:\\Users\\David Salazar\\Desktop\\Python\\Pendicti...  Center_Goalie\n",
       "3     C:\\Users\\David Salazar\\Desktop\\Python\\Pendicti...  Center_Goalie\n",
       "4     C:\\Users\\David Salazar\\Desktop\\Python\\Pendicti...  Center_Goalie\n",
       "...                                                 ...            ...\n",
       "1792  C:\\Users\\David Salazar\\Desktop\\Python\\Pendicti...   Right_Goalie\n",
       "1793  C:\\Users\\David Salazar\\Desktop\\Python\\Pendicti...   Right_Goalie\n",
       "1794  C:\\Users\\David Salazar\\Desktop\\Python\\Pendicti...   Right_Goalie\n",
       "1795  C:\\Users\\David Salazar\\Desktop\\Python\\Pendicti...   Right_Goalie\n",
       "1796  C:\\Users\\David Salazar\\Desktop\\Python\\Pendicti...   Right_Goalie\n",
       "\n",
       "[1797 rows x 2 columns]"
      ]
     },
     "execution_count": 9,
     "metadata": {},
     "output_type": "execute_result"
    }
   ],
   "source": [
    "train_dir = \"C:\\\\Users\\\\luoal\\\\Documents\\\\PenaltyProphet\\\\Data\\\\goalie_pens\\\\train\"\n",
    "delAugmented(directory=train_dir) #Deletes all augmented images\n",
    "\n",
    "# Grab all images from classification directory\n",
    "train_data = []\n",
    "for file in os.listdir(train_dir):\n",
    "    for image in os.listdir(f\"{train_dir}\\\\{file}\"):\n",
    "        train_data.append([f\"{train_dir}\\\\{file}\\\\{image}\",file])\n",
    "\n",
    "directoryDF = pd.DataFrame(train_data,columns=['ImageDirectory','ImageLabel'])\n",
    "directoryDF"
   ]
  },
  {
   "cell_type": "code",
   "execution_count": 10,
   "metadata": {},
   "outputs": [
    {
     "name": "stdout",
     "output_type": "stream",
     "text": [
      "Training data length: 1257\n",
      "Validation data length: 270\n",
      "Testing data length: 270\n"
     ]
    }
   ],
   "source": [
    "train_goalie, validate_goalie, test_goalie = np.split(directoryDF.sample(frac=1,random_state=4), [int(.7*len(directoryDF)), int(.85*len(directoryDF))])\n",
    "validate_goalie.to_csv(os.path.join(csv_dir, \"validation_goalie.csv\"),index=False) # Save so we know what we are validating on\n",
    "test_goalie.to_csv(os.path.join(csv_dir, \"test_goalie.csv\"),index=False) # Save so we know what we are testing on\n",
    "print(f\"Training data length: {len(train_goalie)}\\nValidation data length: {len(validate_goalie)}\\nTesting data length: {len(test_goalie)}\")"
   ]
  },
  {
   "cell_type": "code",
   "execution_count": null,
   "metadata": {},
   "outputs": [],
   "source": [
    "# Move validation images to validation directory\n",
    "val_dir = \"C:\\\\Users\\\\luoal\\\\Documents\\\\PenaltyProphet\\\\Data\\\\goalie_pens\\\\val\"\n",
    "for directory in validate_goalie['ImageDirectory'].values:\n",
    "    classification = directory.split('\\\\')[-2]\n",
    "    image_name = directory.split('\\\\')[-1]\n",
    "    os.replace(directory,os.path.join(val_dir,classification,image_name))"
   ]
  },
  {
   "cell_type": "code",
   "execution_count": null,
   "metadata": {},
   "outputs": [],
   "source": [
    "# Move test images to test directory\n",
    "test_dir = \"C:\\\\Users\\\\luoal\\\\Documents\\\\PenaltyProphet\\\\Data\\\\goalie_pens\\\\test\"\n",
    "for directory in test_goalie['ImageDirectory'].values:\n",
    "    classification = directory.split('\\\\')[-2]\n",
    "    image_name = directory.split('\\\\')[-1]\n",
    "    os.replace(directory,os.path.join(test_dir,classification,image_name))"
   ]
  },
  {
   "cell_type": "code",
   "execution_count": null,
   "metadata": {},
   "outputs": [],
   "source": [
    "# Augment images in training data \n",
    "for file in os.listdir(train_dir):\n",
    "    while len(os.listdir(os.path.join(train_dir,file))) < 1500:\n",
    "        for image in os.listdir(os.path.join(train_dir,file)):\n",
    "            augmentImages(os.path.join(train_dir,file),image)\n",
    "            if len(os.listdir(os.path.join(train_dir,file))) >= 1500:\n",
    "                break"
   ]
  }
 ],
 "metadata": {
  "kernelspec": {
   "display_name": "ML",
   "language": "python",
   "name": "python3"
  },
  "language_info": {
   "codemirror_mode": {
    "name": "ipython",
    "version": 3
   },
   "file_extension": ".py",
   "mimetype": "text/x-python",
   "name": "python",
   "nbconvert_exporter": "python",
   "pygments_lexer": "ipython3",
   "version": "3.10.8"
  },
  "orig_nbformat": 4,
  "vscode": {
   "interpreter": {
    "hash": "24655098450cfdfc86a5c9aa42e2375245240419abafb835314a302369f7ffb4"
   }
  }
 },
 "nbformat": 4,
 "nbformat_minor": 2
}
